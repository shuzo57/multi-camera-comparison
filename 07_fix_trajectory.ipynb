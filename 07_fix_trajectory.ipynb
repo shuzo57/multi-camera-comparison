{
 "cells": [
  {
   "cell_type": "code",
   "execution_count": 20,
   "metadata": {},
   "outputs": [],
   "source": [
    "import os\n",
    "import numpy as np\n",
    "import pandas as pd\n",
    "import matplotlib.pyplot as plt\n",
    "\n",
    "from IPython.display import display\n",
    "\n",
    "pd.set_option('display.max_columns', 500)"
   ]
  },
  {
   "cell_type": "code",
   "execution_count": 21,
   "metadata": {},
   "outputs": [],
   "source": [
    "fps = 250\n",
    "thr = 2\n",
    "\n",
    "output_dir = 'fixed_trajectories'"
   ]
  },
  {
   "cell_type": "code",
   "execution_count": 22,
   "metadata": {},
   "outputs": [],
   "source": [
    "for num in range(10):\n",
    "    trajectory_path = f\"trajectories/hirasaki_{num}_trajectories.csv\"\n",
    "    \n",
    "    df = pd.read_csv(trajectory_path, index_col=0)\n",
    "    keypoints_columns = [col.replace(\"_x\", \"\") for col in df.columns if col.endswith(\"_x\") and \"*\" not in col]\n",
    "    drop_columns = [col for col in df.columns if \"*\" in col]\n",
    "    \n",
    "    null_rows = df[[col + \"_x\" for col in keypoints_columns]].isnull().sum(axis=1).values\n",
    "    max_index = np.argmax(null_rows > thr)\n",
    "    \n",
    "    df = df.iloc[:max_index]\n",
    "    df = df.drop(columns=drop_columns)\n",
    "    \n",
    "    df = df.interpolate(method=\"spline\", order=3, limit_direction=\"both\")\n",
    "    df.to_csv(os.path.join(output_dir, trajectory_path.split(\"/\")[-1]))"
   ]
  }
 ],
 "metadata": {
  "kernelspec": {
   "display_name": ".venv",
   "language": "python",
   "name": "python3"
  },
  "language_info": {
   "codemirror_mode": {
    "name": "ipython",
    "version": 3
   },
   "file_extension": ".py",
   "mimetype": "text/x-python",
   "name": "python",
   "nbconvert_exporter": "python",
   "pygments_lexer": "ipython3",
   "version": "3.8.18"
  }
 },
 "nbformat": 4,
 "nbformat_minor": 2
}
