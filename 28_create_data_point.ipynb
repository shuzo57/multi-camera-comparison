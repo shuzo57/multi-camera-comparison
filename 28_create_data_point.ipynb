{
 "cells": [
  {
   "cell_type": "code",
   "execution_count": 10,
   "metadata": {},
   "outputs": [],
   "source": [
    "import os\n",
    "import shutil\n",
    "\n",
    "import matplotlib.pyplot as plt\n",
    "import pandas as pd\n",
    "import scipy\n",
    "\n",
    "from utils.dlt import *\n",
    "from utils.motion_visualize_tool import *\n",
    "from utils.skeleton_keypoints import *\n",
    "\n",
    "from IPython.display import display"
   ]
  },
  {
   "cell_type": "code",
   "execution_count": 3,
   "metadata": {},
   "outputs": [],
   "source": [
    "output_dir = \"28\"\n",
    "os.makedirs(output_dir, exist_ok=True)"
   ]
  },
  {
   "cell_type": "code",
   "execution_count": null,
   "metadata": {},
   "outputs": [],
   "source": [
    "pred_fps = 60\n",
    "true_fps = 250\n",
    "\n",
    "df_lag = pd.read_csv(\"lag.csv\")"
   ]
  },
  {
   "cell_type": "code",
   "execution_count": 20,
   "metadata": {},
   "outputs": [],
   "source": [
    "for data_num in range(10):\n",
    "    true_path = f\"fixed_trajectories/hirasaki_{data_num}_trajectories.csv\"\n",
    "    df_true = pd.read_csv(true_path, index_col=0)\n",
    "    df_true[\"time\"] = np.arange(len(df_true)) / true_fps\n",
    "\n",
    "    pred_path = f\"all_combinations/hirasaki_{data_num}_01234.csv\"\n",
    "    df_pred = pd.read_csv(pred_path, index_col=0)\n",
    "    df_pred[\"time\"] = np.arange(len(df_pred)) / pred_fps\n",
    "\n",
    "    lag = df_lag[\"lag_RIGHT_ANKLE\"].values[data_num]\n",
    "    lag_time = df_lag[\"lag_time_RIGHT_ANKLE\"].values[data_num]\n",
    "\n",
    "    pred_time = df_pred.time.values\n",
    "    true_time = df_true.time.values - lag_time\n",
    "\n",
    "    lower = np.where(pred_time >= pred_time[np.where(pred_time > true_time[0])].min())[0]\n",
    "    upper = np.where(pred_time <= pred_time[np.where(pred_time < true_time[-1])].max())[0]\n",
    "    common_index = np.intersect1d(lower, upper)\n",
    "    new_time = pred_time[common_index]\n",
    "\n",
    "    df_true2 = pd.DataFrame()\n",
    "    for keypoint in df_true.columns:\n",
    "        if keypoint == \"time\":\n",
    "            continue\n",
    "        y_true = df_true[keypoint]\n",
    "        interpolater = scipy.interpolate.interp1d(true_time, y_true, kind=\"linear\")\n",
    "        y_true_interpolated = interpolater(new_time)\n",
    "        df_true2[keypoint] = y_true_interpolated\n",
    "    df_true2[\"time\"] = new_time\n",
    "    df_true2[\"frame\"] = (df_true2[\"time\"] * pred_fps + 0.5).astype(int) + 1\n",
    "    df_true2.set_index(\"frame\", inplace=True)\n",
    "    \n",
    "    df_true2.to_csv(f\"{output_dir}/hirasaki_{data_num}_trajectories.csv\")"
   ]
  },
  {
   "cell_type": "code",
   "execution_count": null,
   "metadata": {},
   "outputs": [],
   "source": []
  }
 ],
 "metadata": {
  "kernelspec": {
   "display_name": ".venv",
   "language": "python",
   "name": "python3"
  },
  "language_info": {
   "codemirror_mode": {
    "name": "ipython",
    "version": 3
   },
   "file_extension": ".py",
   "mimetype": "text/x-python",
   "name": "python",
   "nbconvert_exporter": "python",
   "pygments_lexer": "ipython3",
   "version": "3.8.20"
  }
 },
 "nbformat": 4,
 "nbformat_minor": 2
}
