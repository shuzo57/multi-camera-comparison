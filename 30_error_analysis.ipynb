{
 "cells": [
  {
   "cell_type": "code",
   "execution_count": 1,
   "metadata": {},
   "outputs": [],
   "source": [
    "import os\n",
    "\n",
    "import pandas as pd\n",
    "from IPython.display import display\n",
    "\n",
    "pd.options.display.float_format = '{:.2f}'.format\n",
    "import warnings\n",
    "from itertools import combinations\n",
    "\n",
    "import matplotlib.pyplot as plt\n",
    "import numpy as np\n",
    "import seaborn as sns\n",
    "from scipy.stats import *\n",
    "from statsmodels.stats.multicomp import pairwise_tukeyhsd\n",
    "\n",
    "warnings.filterwarnings(\"ignore\")"
   ]
  },
  {
   "cell_type": "code",
   "execution_count": 2,
   "metadata": {},
   "outputs": [],
   "source": [
    "file_paths = [f\"GT_error/hirasaki_{i}_errors.csv\" for i in range(10)]\n",
    "dataframes = [pd.read_csv(file_path) for file_path in file_paths]"
   ]
  },
  {
   "cell_type": "code",
   "execution_count": 3,
   "metadata": {},
   "outputs": [
    {
     "name": "stdout",
     "output_type": "stream",
     "text": [
      "Number of combinations for each n:\n",
      "n=2: 18440\n",
      "n=3: 18440\n",
      "n=4: 9220\n",
      "n=5: 1844\n"
     ]
    }
   ],
   "source": [
    "frame_wise_avg_mpjpe_combinations_revised = {n: [] for n in range(2, 6)}\n",
    "\n",
    "for n in range(5):\n",
    "    for combo_indices in combinations(range(5), n + 2):\n",
    "        for df in dataframes:\n",
    "            combo_col_name = f\"{''.join(map(str, combo_indices))}_mpjpe\"\n",
    "            if combo_col_name in df.columns:\n",
    "                frame_wise_avg_mpjpe_combinations_revised[n + 2].extend(df[combo_col_name].values)\n",
    "\n",
    "print(\"Number of combinations for each n:\")\n",
    "for n, values in frame_wise_avg_mpjpe_combinations_revised.items():\n",
    "    print(f\"n={n}: {len(values)}\")"
   ]
  },
  {
   "cell_type": "code",
   "execution_count": 4,
   "metadata": {},
   "outputs": [
    {
     "data": {
      "text/html": [
       "<div>\n",
       "<style scoped>\n",
       "    .dataframe tbody tr th:only-of-type {\n",
       "        vertical-align: middle;\n",
       "    }\n",
       "\n",
       "    .dataframe tbody tr th {\n",
       "        vertical-align: top;\n",
       "    }\n",
       "\n",
       "    .dataframe thead th {\n",
       "        text-align: right;\n",
       "    }\n",
       "</style>\n",
       "<table border=\"1\" class=\"dataframe\">\n",
       "  <thead>\n",
       "    <tr style=\"text-align: right;\">\n",
       "      <th></th>\n",
       "      <th>Combination</th>\n",
       "      <th>Error Type</th>\n",
       "      <th>Error Value</th>\n",
       "    </tr>\n",
       "  </thead>\n",
       "  <tbody>\n",
       "    <tr>\n",
       "      <th>0</th>\n",
       "      <td>01</td>\n",
       "      <td>MPJPE</td>\n",
       "      <td>15.95</td>\n",
       "    </tr>\n",
       "    <tr>\n",
       "      <th>1</th>\n",
       "      <td>01</td>\n",
       "      <td>MPJPE</td>\n",
       "      <td>15.69</td>\n",
       "    </tr>\n",
       "    <tr>\n",
       "      <th>2</th>\n",
       "      <td>01</td>\n",
       "      <td>MPJPE</td>\n",
       "      <td>15.46</td>\n",
       "    </tr>\n",
       "    <tr>\n",
       "      <th>3</th>\n",
       "      <td>01</td>\n",
       "      <td>MPJPE</td>\n",
       "      <td>15.26</td>\n",
       "    </tr>\n",
       "    <tr>\n",
       "      <th>4</th>\n",
       "      <td>01</td>\n",
       "      <td>MPJPE</td>\n",
       "      <td>15.04</td>\n",
       "    </tr>\n",
       "  </tbody>\n",
       "</table>\n",
       "</div>"
      ],
      "text/plain": [
       "  Combination Error Type  Error Value\n",
       "0          01      MPJPE        15.95\n",
       "1          01      MPJPE        15.69\n",
       "2          01      MPJPE        15.46\n",
       "3          01      MPJPE        15.26\n",
       "4          01      MPJPE        15.04"
      ]
     },
     "execution_count": 4,
     "metadata": {},
     "output_type": "execute_result"
    }
   ],
   "source": [
    "raw_combination_data = []\n",
    "for df in dataframes:\n",
    "    for col in df.columns:\n",
    "        if \"_mpjpe\" in col or \"_angle\" in col:\n",
    "            error_type = \"MPJPE\" if \"_mpjpe\" in col else col.split('_')[1] + \" \" + col.split('_')[2]\n",
    "            if len(col.split('_')) == 6:\n",
    "                error_type += \" \" + col.split('_')[3]\n",
    "            for value in df[col].values:\n",
    "                raw_combination_data.append({\"Combination\": col.split('_')[0], \"Error Type\": error_type, \"Error Value\": value})\n",
    "\n",
    "raw_combination_df = pd.DataFrame(raw_combination_data)\n",
    "raw_combination_df.head()"
   ]
  },
  {
   "cell_type": "code",
   "execution_count": 5,
   "metadata": {},
   "outputs": [
    {
     "data": {
      "text/html": [
       "<div>\n",
       "<style scoped>\n",
       "    .dataframe tbody tr th:only-of-type {\n",
       "        vertical-align: middle;\n",
       "    }\n",
       "\n",
       "    .dataframe tbody tr th {\n",
       "        vertical-align: top;\n",
       "    }\n",
       "\n",
       "    .dataframe thead th {\n",
       "        text-align: right;\n",
       "    }\n",
       "</style>\n",
       "<table border=\"1\" class=\"dataframe\">\n",
       "  <thead>\n",
       "    <tr style=\"text-align: right;\">\n",
       "      <th></th>\n",
       "      <th>Combination</th>\n",
       "      <th>Error Type</th>\n",
       "      <th>Error Value</th>\n",
       "    </tr>\n",
       "  </thead>\n",
       "  <tbody>\n",
       "    <tr>\n",
       "      <th>0</th>\n",
       "      <td>01</td>\n",
       "      <td>MPJPE</td>\n",
       "      <td>15.95</td>\n",
       "    </tr>\n",
       "    <tr>\n",
       "      <th>1</th>\n",
       "      <td>01</td>\n",
       "      <td>MPJPE</td>\n",
       "      <td>15.69</td>\n",
       "    </tr>\n",
       "    <tr>\n",
       "      <th>2</th>\n",
       "      <td>01</td>\n",
       "      <td>MPJPE</td>\n",
       "      <td>15.46</td>\n",
       "    </tr>\n",
       "    <tr>\n",
       "      <th>3</th>\n",
       "      <td>01</td>\n",
       "      <td>MPJPE</td>\n",
       "      <td>15.26</td>\n",
       "    </tr>\n",
       "    <tr>\n",
       "      <th>4</th>\n",
       "      <td>01</td>\n",
       "      <td>MPJPE</td>\n",
       "      <td>15.04</td>\n",
       "    </tr>\n",
       "    <tr>\n",
       "      <th>...</th>\n",
       "      <td>...</td>\n",
       "      <td>...</td>\n",
       "      <td>...</td>\n",
       "    </tr>\n",
       "    <tr>\n",
       "      <th>334439</th>\n",
       "      <td>01234</td>\n",
       "      <td>MPJPE</td>\n",
       "      <td>7.92</td>\n",
       "    </tr>\n",
       "    <tr>\n",
       "      <th>334440</th>\n",
       "      <td>01234</td>\n",
       "      <td>MPJPE</td>\n",
       "      <td>8.00</td>\n",
       "    </tr>\n",
       "    <tr>\n",
       "      <th>334441</th>\n",
       "      <td>01234</td>\n",
       "      <td>MPJPE</td>\n",
       "      <td>8.14</td>\n",
       "    </tr>\n",
       "    <tr>\n",
       "      <th>334442</th>\n",
       "      <td>01234</td>\n",
       "      <td>MPJPE</td>\n",
       "      <td>8.32</td>\n",
       "    </tr>\n",
       "    <tr>\n",
       "      <th>334443</th>\n",
       "      <td>01234</td>\n",
       "      <td>MPJPE</td>\n",
       "      <td>8.57</td>\n",
       "    </tr>\n",
       "  </tbody>\n",
       "</table>\n",
       "<p>46100 rows × 3 columns</p>\n",
       "</div>"
      ],
      "text/plain": [
       "       Combination Error Type  Error Value\n",
       "0               01      MPJPE        15.95\n",
       "1               01      MPJPE        15.69\n",
       "2               01      MPJPE        15.46\n",
       "3               01      MPJPE        15.26\n",
       "4               01      MPJPE        15.04\n",
       "...            ...        ...          ...\n",
       "334439       01234      MPJPE         7.92\n",
       "334440       01234      MPJPE         8.00\n",
       "334441       01234      MPJPE         8.14\n",
       "334442       01234      MPJPE         8.32\n",
       "334443       01234      MPJPE         8.57\n",
       "\n",
       "[46100 rows x 3 columns]"
      ]
     },
     "metadata": {},
     "output_type": "display_data"
    }
   ],
   "source": [
    "mpjpe_df = raw_combination_df[(raw_combination_df[\"Error Type\"] == \"MPJPE\") & (raw_combination_df[\"Combination\"] != \"04\")]\n",
    "display(mpjpe_df)"
   ]
  },
  {
   "cell_type": "code",
   "execution_count": 6,
   "metadata": {},
   "outputs": [
    {
     "name": "stdout",
     "output_type": "stream",
     "text": [
      "Mean values for each n:\n",
      "n=2: 16.19 ± 9.94\n",
      "n=3: 11.11 ± 5.35\n",
      "n=4: 8.59 ± 3.51\n",
      "n=5: 6.79 ± 1.75\n",
      "Decreasing rates for each n:\n",
      "2 -> 3: 31.37\n",
      "3 -> 4: 22.75\n",
      "4 -> 5: 20.90\n",
      "Diminishing rates for each n:\n",
      "2 -> 3 -> 4: 8.62\n",
      "3 -> 4 -> 5: 1.85\n"
     ]
    }
   ],
   "source": [
    "mean_values = [mpjpe_df[mpjpe_df[\"Combination\"].str.len() == n][\"Error Value\"].mean() for n in range(2, 6)]\n",
    "std_values = [mpjpe_df[mpjpe_df[\"Combination\"].str.len() == n][\"Error Value\"].std() for n in range(2, 6)]\n",
    "\n",
    "print(\"Mean values for each n:\")\n",
    "for n, mean, std in zip(range(2, 6), mean_values, std_values):\n",
    "    print(f\"n={n}: {mean:.2f} ± {std:.2f}\")\n",
    "\n",
    "reduction_rates = [(mean_values[n] - mean_values[n + 1]) / mean_values[n] * 100 for n in range(3)]\n",
    "print(f\"Decreasing rates for each n:\")\n",
    "for n, rate in enumerate(reduction_rates):\n",
    "    print(f\"{n + 2} -> {n + 3}: {rate:.2f}\")\n",
    "\n",
    "diminishing_rates = [reduction_rates[n] - reduction_rates[n + 1] for n in range(2)]\n",
    "print(f\"Diminishing rates for each n:\")\n",
    "for n, rate in enumerate(diminishing_rates):\n",
    "    print(f\"{n + 2} -> {n + 3} -> {n + 4}: {rate:.2f}\")"
   ]
  },
  {
   "cell_type": "code",
   "execution_count": 7,
   "metadata": {},
   "outputs": [
    {
     "data": {
      "image/png": "[encoded data removed]",
      "text/plain": [
       "<Figure size 800x500 with 1 Axes>"
      ]
     },
     "metadata": {},
     "output_type": "display_data"
    }
   ],
   "source": [
    "plt.figure(figsize=(8, 5))\n",
    "boxplot_data = []\n",
    "q3_values = []\n",
    "\n",
    "for n in range(2, 6):\n",
    "    values = mpjpe_df[mpjpe_df[\"Combination\"].str.len() == n][\"Error Value\"]\n",
    "    boxplot_data.append(values)\n",
    "    q3_values.append(values.quantile(0.75))\n",
    "\n",
    "plt.boxplot(boxplot_data, labels=[f\"n={n}\" for n in range(2, 6)], showfliers=False)\n",
    "\n",
    "plt.plot(range(1, 5), mean_values, marker='o', linestyle='-', color='blue', label=\"Mean MPJPE\")\n",
    "\n",
    "for i, (start, end) in enumerate(zip(mean_values[:-1], mean_values[1:])):\n",
    "    diff = start - end\n",
    "    rate = diff / start * 100\n",
    "    plt.text(i + 1.5, (start + end) / 2 + 1, f\"-{diff:.2f}\\n({rate:.1f}%)\", ha='center', fontsize=10, color='red')\n",
    "\n",
    "for i, (mean, q3) in enumerate(zip(mean_values, q3_values)):\n",
    "    plt.text(i + 0.88, q3 + 0.6, f\"{mean:.2f}\", ha='center', fontsize=10, color='blue')\n",
    "\n",
    "plt.title(\"RA-MPJPE Distribution with Mean Values and Reductions\", fontsize=14)\n",
    "plt.xlabel(\"Number of Viewpoints (n)\", fontsize=12)\n",
    "plt.ylabel(\"RA-MPJPE (mm)\", fontsize=12)\n",
    "plt.legend(fontsize=10)\n",
    "plt.grid(axis='y', alpha=0.5)\n",
    "plt.tight_layout()\n",
    "plt.show()"
   ]
  },
  {
   "cell_type": "code",
   "execution_count": 8,
   "metadata": {},
   "outputs": [
    {
     "name": "stdout",
     "output_type": "stream",
     "text": [
      "Levene's test: stat=1712.3576, p=0.0000\n",
      "Fligner-Killeen test: stat=7268.8400, p=0.0000\n",
      "Kruskal-Wallis test: stat=10132.0564, p=0.0000\n",
      "\n",
      "Cliff's Delta Effect Sizes (pairwise comparisons):\n",
      "2 vs 3: 0.8465\n",
      "3 vs 4: 0.6701\n",
      "4 vs 5: 0.7043\n"
     ]
    }
   ],
   "source": [
    "values_2 = mpjpe_df[mpjpe_df[\"Combination\"].str.len() == 2][\"Error Value\"]\n",
    "values_3 = mpjpe_df[mpjpe_df[\"Combination\"].str.len() == 3][\"Error Value\"]\n",
    "values_4 = mpjpe_df[mpjpe_df[\"Combination\"].str.len() == 4][\"Error Value\"]\n",
    "values_5 = mpjpe_df[mpjpe_df[\"Combination\"].str.len() == 5][\"Error Value\"]\n",
    "\n",
    "stat_levene, p_levene = levene(values_2, values_3, values_4, values_5)\n",
    "print(f\"Levene's test: stat={stat_levene:.4f}, p={p_levene:.4f}\")\n",
    "\n",
    "stat_fligner, p_fligner = fligner(values_2, values_3, values_4, values_5)\n",
    "print(f\"Fligner-Killeen test: stat={stat_fligner:.4f}, p={p_fligner:.4f}\")\n",
    "\n",
    "stat_kruskal, p_kruskal = kruskal(values_2, values_3, values_4, values_5)\n",
    "\n",
    "def cliffs_delta(a, b):\n",
    "    m, n = len(a), len(b)\n",
    "    rank = np.argsort(np.concatenate([a, b]))\n",
    "    a_ranks = np.sum(rank[:m])\n",
    "    b_ranks = np.sum(rank[m:])\n",
    "    return (2 * a_ranks / m - (m + 1)) / n - 0.5\n",
    "\n",
    "cliffs_effects = {\n",
    "    f\"{n1} vs {n2}\": cliffs_delta(\n",
    "        mpjpe_df[mpjpe_df[\"Combination\"].str.len() == n1][\"Error Value\"],\n",
    "        mpjpe_df[mpjpe_df[\"Combination\"].str.len() == n2][\"Error Value\"],\n",
    "    )\n",
    "    for n1, n2 in [(2, 3), (3, 4), (4, 5)]\n",
    "}\n",
    "\n",
    "print(f\"Kruskal-Wallis test: stat={stat_kruskal:.4f}, p={p_kruskal:.4f}\")\n",
    "print(\"\\nCliff's Delta Effect Sizes (pairwise comparisons):\")\n",
    "for pair, delta in cliffs_effects.items():\n",
    "    print(f\"{pair}: {delta:.4f}\")"
   ]
  },
  {
   "cell_type": "code",
   "execution_count": null,
   "metadata": {},
   "outputs": [],
   "source": []
  }
 ],
 "metadata": {
  "kernelspec": {
   "display_name": ".venv",
   "language": "python",
   "name": "python3"
  },
  "language_info": {
   "codemirror_mode": {
    "name": "ipython",
    "version": 3
   },
   "file_extension": ".py",
   "mimetype": "text/x-python",
   "name": "python",
   "nbconvert_exporter": "python",
   "pygments_lexer": "ipython3",
   "version": "3.10.12"
  }
 },
 "nbformat": 4,
 "nbformat_minor": 2
}
