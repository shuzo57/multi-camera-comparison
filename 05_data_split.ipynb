{
 "cells": [
  {
   "cell_type": "code",
   "execution_count": 6,
   "metadata": {},
   "outputs": [],
   "source": [
    "import os\n",
    "import pandas as pd"
   ]
  },
  {
   "cell_type": "code",
   "execution_count": 7,
   "metadata": {},
   "outputs": [],
   "source": [
    "class FileName:\n",
    "    TRAJECTORIES_NAME = \"trajectories.csv\""
   ]
  },
  {
   "cell_type": "code",
   "execution_count": 8,
   "metadata": {},
   "outputs": [],
   "source": [
    "TRAJECTORIES_DIR = \"trajectories\"\n",
    "os.makedirs(TRAJECTORIES_DIR, exist_ok=True)"
   ]
  },
  {
   "cell_type": "code",
   "execution_count": 9,
   "metadata": {},
   "outputs": [],
   "source": [
    "csv_dir = \"csv\"\n",
    "csv_list = [os.path.join(csv_dir, f) for f in os.listdir(csv_dir) if f.endswith(\".csv\")]\n",
    "csv_list = sorted(csv_list)"
   ]
  },
  {
   "cell_type": "code",
   "execution_count": 10,
   "metadata": {},
   "outputs": [],
   "source": [
    "def main(csv_path):\n",
    "    with open(csv_path, 'r') as f:\n",
    "        file_name = os.path.basename(csv_path).split(\".\")[0]\n",
    "        TRAJECTORIES_PATH = f\"{TRAJECTORIES_DIR}/{file_name}_{FileName.TRAJECTORIES_NAME}\"\n",
    "        if os.path.exists(TRAJECTORIES_PATH):\n",
    "            return None\n",
    "\n",
    "        lines = f.readlines()\n",
    "        lines_iter = iter(lines)\n",
    "        while True:\n",
    "            try:\n",
    "                line = next(lines_iter).strip().split(',')\n",
    "                if line[0] == 'TRAJECTORIES':\n",
    "                    # Hz\n",
    "                    line = next(lines_iter).strip().split(',')\n",
    "                    TRAJECTORIES_Hz = float(line[0])\n",
    "                    # columns 1\n",
    "                    line = next(lines_iter).strip().split(',')\n",
    "                    TRAJECTORIES_COLUMNS_1 = line\n",
    "                    # columns 2\n",
    "                    line = next(lines_iter).strip().split(',')\n",
    "                    TRAJECTORIES_COLUMNS_2 = line\n",
    "                    # data\n",
    "                    TRAJECTORIES_DATA = pd.DataFrame(columns=TRAJECTORIES_COLUMNS_2)\n",
    "                    count_index = 0\n",
    "                    while True:\n",
    "                        try:\n",
    "                            count_index += 1\n",
    "                            line = next(lines_iter).strip().split(',')\n",
    "                            index = int(line[0]) if line[0].isdigit() else line[0]\n",
    "                            if index != count_index:\n",
    "                                # organize data\n",
    "                                TRAJECTORIES_COLUMNS_1 = [x for x in TRAJECTORIES_COLUMNS_1 if x != '']\n",
    "                                TRAJECTORIES_DATA.set_index(TRAJECTORIES_COLUMNS_2[0], inplace=True)\n",
    "                                NEW_COLUMNS = [f\"{col1}_{axis}\" for col1 in TRAJECTORIES_COLUMNS_1 for axis in ['x', 'y', 'z']]\n",
    "                                TRAJECTORIES_DATA.columns = NEW_COLUMNS\n",
    "                                TRAJECTORIES_DATA.to_csv(TRAJECTORIES_PATH)\n",
    "                                break\n",
    "                            TRAJECTORIES_DATA.loc[index] = line\n",
    "                        except StopIteration:\n",
    "                            break\n",
    "                    pass\n",
    "            except StopIteration:\n",
    "                break"
   ]
  },
  {
   "cell_type": "code",
   "execution_count": 11,
   "metadata": {},
   "outputs": [
    {
     "name": "stdout",
     "output_type": "stream",
     "text": [
      "1/20: csv/hirasaki_0.csv\n",
      "2/20: csv/hirasaki_1.csv\n",
      "3/20: csv/hirasaki_2.csv\n",
      "4/20: csv/hirasaki_3.csv\n",
      "5/20: csv/hirasaki_4.csv\n",
      "6/20: csv/hirasaki_5.csv\n",
      "7/20: csv/hirasaki_6.csv\n",
      "8/20: csv/hirasaki_7.csv\n",
      "9/20: csv/hirasaki_8.csv\n",
      "10/20: csv/hirasaki_9.csv\n",
      "11/20: csv/sasaki_0.csv\n",
      "12/20: csv/sasaki_1.csv\n",
      "13/20: csv/sasaki_2.csv\n",
      "14/20: csv/sasaki_3.csv\n",
      "15/20: csv/sasaki_4.csv\n",
      "16/20: csv/sasaki_5.csv\n",
      "17/20: csv/sasaki_6.csv\n",
      "18/20: csv/sasaki_7.csv\n",
      "19/20: csv/sasaki_8.csv\n",
      "20/20: csv/sasaki_9.csv\n"
     ]
    }
   ],
   "source": [
    "for i, csv_path in enumerate(csv_list):\n",
    "    try:\n",
    "        print(f\"{i+1}/{len(csv_list)}: {csv_path}\")\n",
    "        main(csv_path)\n",
    "    except Exception as e:\n",
    "        print(f\"Error: {csv_path}\")\n",
    "        continue"
   ]
  }
 ],
 "metadata": {
  "kernelspec": {
   "display_name": ".venv",
   "language": "python",
   "name": "python3"
  },
  "language_info": {
   "codemirror_mode": {
    "name": "ipython",
    "version": 3
   },
   "file_extension": ".py",
   "mimetype": "text/x-python",
   "name": "python",
   "nbconvert_exporter": "python",
   "pygments_lexer": "ipython3",
   "version": "3.8.18"
  }
 },
 "nbformat": 4,
 "nbformat_minor": 2
}
