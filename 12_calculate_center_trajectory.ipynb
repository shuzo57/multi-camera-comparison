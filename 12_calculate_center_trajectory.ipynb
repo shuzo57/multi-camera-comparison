{
 "cells": [
  {
   "cell_type": "code",
   "execution_count": 1,
   "metadata": {},
   "outputs": [],
   "source": [
    "import os\n",
    "\n",
    "import pandas as pd\n",
    "\n",
    "from utils.skeleton_keypoints import *"
   ]
  },
  {
   "cell_type": "code",
   "execution_count": 2,
   "metadata": {},
   "outputs": [],
   "source": [
    "input_dir = \"fixed_trajectories\"\n",
    "output_dir = \"fixed_trajectories_2\"\n",
    "\n",
    "os.makedirs(output_dir, exist_ok=True)"
   ]
  },
  {
   "cell_type": "code",
   "execution_count": 3,
   "metadata": {},
   "outputs": [],
   "source": [
    "input_files = [os.path.join(input_dir, f) for f in os.listdir(input_dir) if f.endswith(\".csv\")]\n",
    "input_files.sort()\n",
    "\n",
    "for input_file in input_files:\n",
    "    df = pd.read_csv(input_file, index_col=0)\n",
    "    \n",
    "    df2 = pd.DataFrame()\n",
    "    for key, value in keypoint_pairs_for_calc.items():\n",
    "        col1, col2 = keypoint_pairs_for_calc[key]\n",
    "        \n",
    "        df2[f\"{key}_x\"] = (df[f\"{col1}_x\"] + df[f\"{col2}_x\"]) / 2\n",
    "        df2[f\"{key}_y\"] = (df[f\"{col1}_y\"] + df[f\"{col2}_y\"]) / 2\n",
    "        df2[f\"{key}_z\"] = (df[f\"{col1}_z\"] + df[f\"{col2}_z\"]) / 2\n",
    "\n",
    "    df2.index = df.index\n",
    "    df2.to_csv(os.path.join(output_dir, os.path.basename(input_file)))"
   ]
  },
  {
   "cell_type": "code",
   "execution_count": null,
   "metadata": {},
   "outputs": [],
   "source": []
  }
 ],
 "metadata": {
  "kernelspec": {
   "display_name": ".venv",
   "language": "python",
   "name": "python3"
  },
  "language_info": {
   "codemirror_mode": {
    "name": "ipython",
    "version": 3
   },
   "file_extension": ".py",
   "mimetype": "text/x-python",
   "name": "python",
   "nbconvert_exporter": "python",
   "pygments_lexer": "ipython3",
   "version": "3.8.18"
  }
 },
 "nbformat": 4,
 "nbformat_minor": 2
}
